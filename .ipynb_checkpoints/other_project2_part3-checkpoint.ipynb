{
 "cells": [
  {
   "cell_type": "code",
   "execution_count": 16,
   "metadata": {},
   "outputs": [],
   "source": [
    "# Import necessary libraries in this cell\n",
    "\n",
    "import pandas as pd #pandas is a library for data wrangling/handling\n",
    "import numpy as np #same case for numpy\n",
    "import random\n",
    "\n",
    "# Libraries for helping us with strings\n",
    "import string\n",
    "# Regular Expression Library\n",
    "import re\n",
    "\n",
    "# Seaborn / matplotlib for visualization \n",
    "import seaborn as sns\n",
    "# This command tells python to use seaborn for its styling.\n",
    "sns.set()\n",
    "\n",
    "\n",
    "# Matplotlib is also a very useful, basic visualization/plotting library\n",
    "import matplotlib.pyplot as plt\n",
    "# Very important, this will make your charts appear in your notebook instead of in a new window.\n",
    "%matplotlib inline\n",
    "\n",
    "\n",
    "# Provides z-score helper function,\n",
    "# z-score uses standard deviation to remove outliers\n",
    "# (industry standard is if a data point is 3 std devs away from mean,\n",
    "# it's considered to be an outlier)\n",
    "import scipy.stats as stats\n",
    "\n",
    "\n",
    "# Ignore this, this is just for displaying images.\n",
    "from IPython.display import Image\n",
    "\n",
    "\n",
    "# Importing sklearn library\n",
    "import sklearn\n",
    "\n",
    "# Import the trees from sklearn\n",
    "from sklearn import tree\n",
    "\n",
    "# Metrics help us score our model, using metrics to evaluate our model\n",
    "from sklearn import metrics\n",
    "\n",
    "# Import our Random Forest Classifier\n",
    "from sklearn.ensemble import RandomForestClassifier\n",
    "# Import our Random Forest Regressor\n",
    "from sklearn.ensemble import RandomForestRegressor\n",
    "\n",
    "# Import our text vectorizers\n",
    "from sklearn.feature_extraction.text import CountVectorizer\n",
    "from sklearn.feature_extraction.text import TfidfVectorizer\n",
    "\n",
    "# This is our Logit model\n",
    "from sklearn.linear_model import LogisticRegression\n",
    "# Importing our linear regression model\n",
    "from sklearn.linear_model import LinearRegression\n",
    "\n",
    "# Helper fuctions to evaluate our model from sklearn, including f1_score.\n",
    "from sklearn.metrics import accuracy_score, precision_score, recall_score\n",
    "from sklearn.metrics import f1_score, roc_auc_score\n",
    "# Some more helpful ML function\n",
    "from sklearn.metrics import confusion_matrix, plot_confusion_matrix\n",
    "from sklearn.metrics import classification_report\n",
    "\n",
    "# Helper function to split our data for testing and training purposes\n",
    "from sklearn.model_selection import train_test_split\n",
    "# Helper function for hyper-parameter turning.\n",
    "from sklearn.model_selection import GridSearchCV\n",
    "\n",
    "# Import MultinomaialNB classifier\n",
    "from sklearn.naive_bayes import MultinomialNB\n",
    "\n",
    "# Import our Decision Tree\n",
    "from sklearn.tree import DecisionTreeClassifier\n",
    "\n",
    "from sklearn.svm import SVC\n",
    "\n",
    "\n",
    "# Library for visualizing our tree\n",
    "# If you get an error, \n",
    "# run 'conda install python-graphviz' in your terminal (without the quotes).\n",
    "import graphviz \n",
    "\n",
    "\n",
    "# NLTK is our Natural-Language-Took-Kit\n",
    "import nltk\n",
    "from nltk import word_tokenize\n",
    "from nltk.corpus import stopwords, wordnet\n",
    "from nltk.stem import PorterStemmer, WordNetLemmatizer, SnowballStemmer\n",
    "from nltk.tokenize import RegexpTokenizer\n",
    "\n",
    "# You may need to download these from nltk\n",
    "# nltk.download('stopwords')\n",
    "# nltk.download('punkt')\n",
    "# nltk.download('wordnet')\n",
    "# nltk.download('averaged_perceptron_tagger')\n",
    "stopwords = stopwords.words('english')\n",
    "\n",
    "import pickle"
   ]
  },
  {
   "cell_type": "code",
   "execution_count": 17,
   "metadata": {},
   "outputs": [
    {
     "data": {
      "text/html": [
       "<div>\n",
       "<style scoped>\n",
       "    .dataframe tbody tr th:only-of-type {\n",
       "        vertical-align: middle;\n",
       "    }\n",
       "\n",
       "    .dataframe tbody tr th {\n",
       "        vertical-align: top;\n",
       "    }\n",
       "\n",
       "    .dataframe thead th {\n",
       "        text-align: right;\n",
       "    }\n",
       "</style>\n",
       "<table border=\"1\" class=\"dataframe\">\n",
       "  <thead>\n",
       "    <tr style=\"text-align: right;\">\n",
       "      <th></th>\n",
       "      <th>clean_comment</th>\n",
       "      <th>category</th>\n",
       "    </tr>\n",
       "  </thead>\n",
       "  <tbody>\n",
       "    <tr>\n",
       "      <th>0</th>\n",
       "      <td>family mormon have never tried explain them t...</td>\n",
       "      <td>1</td>\n",
       "    </tr>\n",
       "    <tr>\n",
       "      <th>1</th>\n",
       "      <td>buddhism has very much lot compatible with chr...</td>\n",
       "      <td>1</td>\n",
       "    </tr>\n",
       "    <tr>\n",
       "      <th>2</th>\n",
       "      <td>seriously don say thing first all they won get...</td>\n",
       "      <td>-1</td>\n",
       "    </tr>\n",
       "    <tr>\n",
       "      <th>3</th>\n",
       "      <td>what you have learned yours and only yours wha...</td>\n",
       "      <td>0</td>\n",
       "    </tr>\n",
       "    <tr>\n",
       "      <th>4</th>\n",
       "      <td>for your own benefit you may want read living ...</td>\n",
       "      <td>1</td>\n",
       "    </tr>\n",
       "  </tbody>\n",
       "</table>\n",
       "</div>"
      ],
      "text/plain": [
       "                                       clean_comment category\n",
       "0   family mormon have never tried explain them t...        1\n",
       "1  buddhism has very much lot compatible with chr...        1\n",
       "2  seriously don say thing first all they won get...       -1\n",
       "3  what you have learned yours and only yours wha...        0\n",
       "4  for your own benefit you may want read living ...        1"
      ]
     },
     "execution_count": 17,
     "metadata": {},
     "output_type": "execute_result"
    }
   ],
   "source": [
    "# NAME YOUR MODEL \n",
    "filename = 'pkl_files/comments.pkl'\n",
    "\n",
    "## HOW TO LOAD IT FOR FUTURE USE\n",
    "df = pickle.load(open(filename, 'rb'))\n",
    "\n",
    "df.head()"
   ]
  },
  {
   "cell_type": "code",
   "execution_count": 18,
   "metadata": {},
   "outputs": [
    {
     "name": "stdout",
     "output_type": "stream",
     "text": [
      "[1 -1 0]\n"
     ]
    }
   ],
   "source": [
    "print(df.category.unique())"
   ]
  },
  {
   "cell_type": "code",
   "execution_count": 19,
   "metadata": {},
   "outputs": [],
   "source": [
    "#Seems like good practice to me, creating a single function that will call all\n",
    "# our necessary functions from one place, will be subject to change\n",
    "translator = str.maketrans('', '', string.punctuation)\n",
    "\n",
    "def text_pipeline(input_str):\n",
    "    input_str = remove_profanity(input_str)\n",
    "    return input_str\n",
    "\n",
    "def mk_lower(a):\n",
    "    return a.lower()\n",
    "\n",
    "def remove_stopwords(a):\n",
    "    return \" \".join([word for word in word_tokenize(a) if word not in stopwords])\n",
    "\n",
    "def remove_sp_char(a):\n",
    "    ## \\s for white space, ^ is negation, \\w is words.  so replace all punctutation that follows a word \n",
    "    return a.translate(translator)\n",
    "\n",
    "def remove_sp_char2(a):\n",
    "    return re.sub(r\"[^\\w\\s]\", \"\", a)\n",
    "    \n",
    "    \n",
    "def text_pipeline2(a):\n",
    "    a = mk_lower(a)\n",
    "    a = remove_sp_char(a)\n",
    "    a = remove_stopwords(a)\n",
    "    return a"
   ]
  },
  {
   "cell_type": "code",
   "execution_count": 20,
   "metadata": {},
   "outputs": [
    {
     "name": "stdout",
     "output_type": "stream",
     "text": [
      "[1 0]\n"
     ]
    }
   ],
   "source": [
    "mask1 = df[\"category\"] == -1\n",
    "\n",
    "df.loc[mask1, 'category'] = 0\n",
    "print(df[\"category\"].unique())"
   ]
  },
  {
   "cell_type": "code",
   "execution_count": 24,
   "metadata": {},
   "outputs": [
    {
     "name": "stdout",
     "output_type": "stream",
     "text": [
      "(227016, 2)\n"
     ]
    }
   ],
   "source": [
    "df[\"clean_comment\"] = df[\"clean_comment\"].apply(text_pipeline2)\n",
    "print(df.shape)"
   ]
  },
  {
   "cell_type": "code",
   "execution_count": null,
   "metadata": {},
   "outputs": [],
   "source": []
  },
  {
   "cell_type": "code",
   "execution_count": 25,
   "metadata": {},
   "outputs": [],
   "source": [
    "X = df[\"clean_comment\"].values\n",
    "y = df[\"category\"].values\n",
    "y=y.astype('float')"
   ]
  },
  {
   "cell_type": "code",
   "execution_count": 26,
   "metadata": {},
   "outputs": [
    {
     "name": "stdout",
     "output_type": "stream",
     "text": [
      "(227016, 4257272) <class 'scipy.sparse.csr.csr_matrix'>\n"
     ]
    }
   ],
   "source": [
    "vectorizer = TfidfVectorizer(ngram_range=(1,3))\n",
    "vectorizer.fit(X)\n",
    "\n",
    "X = vectorizer.transform(X)\n",
    "\n",
    "print(X.shape, type(X))\n",
    "\n",
    "X_train, X_test, y_train, y_test = train_test_split(X, y, test_size=0.2, random_state=33)\n"
   ]
  },
  {
   "cell_type": "code",
   "execution_count": 27,
   "metadata": {},
   "outputs": [
    {
     "name": "stdout",
     "output_type": "stream",
     "text": [
      "{'alpha': 0.45}\n"
     ]
    }
   ],
   "source": [
    "params = {\n",
    "    'alpha' : [0.45, 0.5, 0.55]\n",
    "}\n",
    "\n",
    "grid_search_cv = GridSearchCV(\n",
    "    estimator = MultinomialNB(),\n",
    "    param_grid = params,\n",
    "    scoring = 'accuracy'\n",
    ")\n",
    "\n",
    "grid_search_cv.fit(X_train, y_train)\n",
    "print(grid_search_cv.best_params_)\n",
    "\n",
    "model = grid_search_cv.best_estimator_"
   ]
  },
  {
   "cell_type": "code",
   "execution_count": 29,
   "metadata": {},
   "outputs": [],
   "source": [
    "# # Saving the vectorizer \n",
    "#pickle.dump(vectorizer, open('models/our_vectorizer.pkl', 'wb') )\n",
    "\n",
    "# # Saving the model\n",
    "#pickle.dump(model, open('models/comments_model.pkl', 'wb'))"
   ]
  },
  {
   "cell_type": "code",
   "execution_count": 30,
   "metadata": {},
   "outputs": [
    {
     "name": "stdout",
     "output_type": "stream",
     "text": [
      "Model Accuracy: 0.761497\n"
     ]
    },
    {
     "data": {
      "text/plain": [
       "<sklearn.metrics._plot.confusion_matrix.ConfusionMatrixDisplay at 0x2ad33535188>"
      ]
     },
     "execution_count": 30,
     "metadata": {},
     "output_type": "execute_result"
    },
    {
     "data": {
      "image/png": "[encoded data removed]",
      "text/plain": [
       "<Figure size 1152x720 with 2 Axes>"
      ]
     },
     "metadata": {
      "needs_background": "light"
     },
     "output_type": "display_data"
    }
   ],
   "source": [
    "# model = MultinomialNB(alpha=.05)\n",
    "# model.fit(X_train, y_train)\n",
    "\n",
    "y_pred = model.predict(X_test)\n",
    "\n",
    "accuracy = model.score(X_test, y_test)\n",
    "\n",
    "print(\"Model Accuracy: %f\" % accuracy)\n",
    "\n",
    "fig, ax = plt.subplots(figsize=(16, 10))\n",
    "\n",
    "disp = plot_confusion_matrix(model, X_test, y_test,\n",
    "                             display_labels=model.classes_,\n",
    "                             cmap=plt.cm.Blues, ax=ax)\n",
    "\n",
    "plt.xticks(rotation=-25)\n",
    "disp"
   ]
  },
  {
   "cell_type": "code",
   "execution_count": 32,
   "metadata": {},
   "outputs": [],
   "source": [
    "# # Saving the vectorizer \n",
    "pickle.dump(vectorizer, open('models/vectorizer_ngram3.pkl', 'wb') )\n",
    "\n",
    "# # Saving the model\n",
    "pickle.dump(model, open('models/comments_model_ngram3.pkl', 'wb'))"
   ]
  },
  {
   "cell_type": "code",
   "execution_count": 33,
   "metadata": {},
   "outputs": [
    {
     "name": "stdout",
     "output_type": "stream",
     "text": [
      "hello, my name is kukai and do you want to talk about the one and only god, thighs\n",
      "0.0 0.487\n",
      "1.0 0.513\n",
      "meh, indecisive?\n",
      "I hate you you should delete your twitter account\n",
      "0.0 0.776\n",
      "1.0 0.224\n",
      "REJECT\n",
      "thanks for the recent support.  :)\n",
      "0.0 0.293\n",
      "1.0 0.707\n",
      "ACCEPT\n",
      "imagine being called a CONTENT CREATOR with people donating $5 for everything\n",
      "0.0 0.446\n",
      "1.0 0.554\n",
      "meh, indecisive?\n",
      "cafeteria has new good fries\n",
      "0.0 0.582\n",
      "1.0 0.418\n",
      "meh, indecisive?\n",
      " I hate the new cafeteria french fries\n",
      "0.0 0.756\n",
      "1.0 0.244\n",
      "REJECT\n",
      "fuck\n",
      "0.0 0.779\n",
      "1.0 0.221\n",
      "REJECT\n"
     ]
    }
   ],
   "source": [
    "my_sentences = [\n",
    "\"\"\"hello, my name is kukai and do you want to talk about the one and only god, thighs\"\"\",\n",
    "\"\"\"I hate you you should delete your twitter account\"\"\",\n",
    "\"\"\"thanks for the recent support.  :)\"\"\",\n",
    "\"\"\"imagine being called a CONTENT CREATOR with people donating $5 for everything\"\"\",\n",
    "\"cafeteria has new good fries\",\n",
    "\" I hate the new cafeteria french fries\",\n",
    "\"fuck\"\n",
    "]\n",
    "\n",
    "for sentence in my_sentences:\n",
    "    print(sentence)\n",
    "    # 1. Apply the text pipeline to your sentence\n",
    "    input_text = text_pipeline2(sentence)\n",
    "    # 2. Transform your cleaned text using the `X = vectorizer.transform([your_text])`\\\n",
    "    input_vec = vectorizer.transform([input_text])\n",
    "    # 3. Use the model to predict your new `X`. \n",
    "    model.predict(input_vec)\n",
    "    # 4. Print the prediction\n",
    "    pp = model.predict_proba(input_vec)\n",
    "    p_val = []\n",
    "    for c, p in zip(model.classes_, pp.round(3)[0]):\n",
    "        p_val.append(p)\n",
    "        print(c, p)\n",
    "    if p_val[0] > 0.65:\n",
    "        print(\"REJECT\")\n",
    "    elif p_val[1] > 0.65:\n",
    "        print(\"ACCEPT\")\n",
    "    else:print(\"meh, indecisive?\")\n",
    "    "
   ]
  },
  {
   "cell_type": "code",
   "execution_count": 35,
   "metadata": {},
   "outputs": [
    {
     "name": "stdout",
     "output_type": "stream",
     "text": [
      "done\n"
     ]
    }
   ],
   "source": [
    "#X is the input\n",
    "\n",
    "counter = 0\n",
    "threshold = 100\n",
    "\n",
    "good_dict = dict()\n",
    "bad_dict = dict()\n",
    "indecisive_dict = dict()\n",
    "\n",
    "good_counter = 0\n",
    "bad_counter = 0\n",
    "indecisive_counter = 0\n",
    "\n",
    "good_examples = []\n",
    "bad_examples = []\n",
    "indecisive_examples = []\n",
    "\n",
    "dataset =  df[\"clean_comment\"].values\n",
    "\n",
    "for sentence in dataset:\n",
    "    counter +=1\n",
    "    if counter > threshold:\n",
    "        break\n",
    "    #print(sentence)\n",
    "    # 1. Apply the text pipeline to your sentence\n",
    "    input_text = text_pipeline2(sentence)\n",
    "    # 2. Transform your cleaned text using the `X = vectorizer.transform([your_text])`\\\n",
    "    input_vec = vectorizer.transform([input_text])\n",
    "    # 3. Use the model to predict your new `X`. \n",
    "    model.predict(input_vec)\n",
    "    # 4. Print the prediction\n",
    "    pp = model.predict_proba(input_vec)\n",
    "    p_val = []\n",
    "    for c, p in zip(model.classes_, pp.round(3)[0]):\n",
    "        p_val.append(p)\n",
    "        #print(c, p)\n",
    "    if p_val[0] > 0.65:\n",
    "        #print(\"REJECT\")\n",
    "        bad_counter+=1\n",
    "        if bad_counter < 100:\n",
    "            bad_examples.append(sentence)\n",
    "        for word in sentence.split():\n",
    "            bad_dict[word] = bad_dict.get(word, 0) + 1\n",
    "        \n",
    "    elif p_val[1] > 0.65:\n",
    "        #print(\"ACCEPT\")\n",
    "        good_counter+=1\n",
    "        if good_counter < 100:\n",
    "            good_examples.append(sentence)\n",
    "        for word in sentence.split():\n",
    "            good_dict[word] = good_dict.get(word, 0) + 1\n",
    "    else:\n",
    "        #print(\"meh, indecisive?\")\n",
    "        indecisive_counter+=1\n",
    "        if indecisive_counter < 100:\n",
    "            indecisive_examples.append(sentence)\n",
    "        for word in sentence.split():\n",
    "            indecisive_dict[word] = indecisive_dict.get(word, 0) + 1\n",
    "\n",
    "print(\"done\")"
   ]
  },
  {
   "cell_type": "code",
   "execution_count": 36,
   "metadata": {},
   "outputs": [
    {
     "name": "stdout",
     "output_type": "stream",
     "text": [
      "currently rune mibe right abandoned trog immediately cleared crypt max piety enchant executioner axe threw caution winds cleared pan hells trog wrath tricky doable make sure curing potions time strong enough take trog summons sides problem worked could died worse luck\n",
      "********************\n",
      "heard due booze policy women feel much safer night gujarat true addiction fried snacks must visit places\n",
      "********************\n",
      "wee jas lawful neutral god death magic necromancy evil god perfect representation inevitable things mortals fear evil gods make plans may thwarted wee jas merely waits shall come end also playing cleric fabulous fun\n",
      "********************\n",
      "dear going difficult keep discussion modi page many glorious commentaries happening mainstream media status improvement gujarat true gujaratis mostly vegetarian spoke guy gurgaon douchey type relocating gujarat mentioned kinda different uncomfortable haryana gujaratis feel state guys gujarati manoos movements\n",
      "********************\n",
      "always liked vecna one time able use story blast playing fact far powerful deity one dangerous due portfolio favorite pale night technically deity close enough guess abyssal lords rulers nine hells fairly straightforward ample backstory lack thereof intriguing\n",
      "********************\n"
     ]
    }
   ],
   "source": [
    "examples = random.sample(good_examples, 5)\n",
    "\n",
    "for texts in examples:\n",
    "    print(texts)\n",
    "    print( \"*\"*20)"
   ]
  },
  {
   "cell_type": "code",
   "execution_count": 37,
   "metadata": {},
   "outputs": [
    {
     "name": "stdout",
     "output_type": "stream",
     "text": [
      "dry state\n",
      "********************\n",
      "many big companies gujarat\n",
      "********************\n",
      "though good suggestions additional deities moment probably overlap cavern dwelling gnolls might consider pelor god evil blinding wicked light loki sufficiently fooled years thinking benefactor always leading bountiful crops steal peasantry statues fat woman giving food starving view god death god justice giving righteous end gnolls served brutal conflicts point view change everything\n",
      "********************\n",
      "congress eliminate namo blame advani\n",
      "********************\n",
      "nam indeed\n",
      "********************\n"
     ]
    }
   ],
   "source": [
    "examples = random.sample(bad_examples, 5)\n",
    "\n",
    "for texts in examples:\n",
    "    print(texts)\n",
    "    print( \"*\"*20)"
   ]
  },
  {
   "cell_type": "code",
   "execution_count": 38,
   "metadata": {},
   "outputs": [
    {
     "name": "stdout",
     "output_type": "stream",
     "text": [
      "worried gujarat child sex ratio stands 886 village population 400 500 roughly single guys years old girls single years older got married nris case many villages continue likely guys give dowry girls gujarat\n",
      "********************\n",
      "question anyone gujaratis vote modi\n",
      "********************\n",
      "technically could argue sobek evil would represent power also crocodiles whereas also represents fertile land also guy could shapeshift crocodile badass\n",
      "********************\n",
      "zarus\n",
      "********************\n",
      "people get daaru gujarat drinks prohibited first place words weekender drinker need scotch saturday evenings get gujarat work gujarat even live alcohol smuggling contained gujarat easy smuggle daaru neighboring state gujarat ambani driving city bottles daaru vehicle checked check points\n",
      "********************\n"
     ]
    }
   ],
   "source": [
    "examples = random.sample(indecisive_examples, 5)\n",
    "\n",
    "for texts in examples:\n",
    "    print(texts)\n",
    "    print( \"*\"*20)"
   ]
  },
  {
   "cell_type": "code",
   "execution_count": 39,
   "metadata": {},
   "outputs": [
    {
     "name": "stdout",
     "output_type": "stream",
     "text": [
      "<class 'list'>\n",
      "# of words 1270\n"
     ]
    },
    {
     "data": {
      "text/plain": [
       "[('way', 10),\n",
       " ('god', 10),\n",
       " ('something', 10),\n",
       " ('time', 11),\n",
       " ('like', 11),\n",
       " ('jesus', 11),\n",
       " ('may', 11),\n",
       " ('different', 11),\n",
       " ('also', 12),\n",
       " ('really', 12),\n",
       " ('trog', 13),\n",
       " ('things', 14),\n",
       " ('mind', 14),\n",
       " ('good', 15),\n",
       " ('people', 15),\n",
       " ('buddhism', 19),\n",
       " ('buddha', 19),\n",
       " ('one', 21),\n",
       " ('pure', 25),\n",
       " ('land', 29)]"
      ]
     },
     "execution_count": 39,
     "metadata": {},
     "output_type": "execute_result"
    }
   ],
   "source": [
    "# finding the most frequent words\n",
    "\n",
    "sorted_good = sorted(good_dict.items(), key=lambda kv: kv[1])\n",
    "print(type(sorted_good))\n",
    "print(\"# of words\", len(good_dict))\n",
    "sorted_good[-20:]"
   ]
  },
  {
   "cell_type": "code",
   "execution_count": 40,
   "metadata": {},
   "outputs": [
    {
     "data": {
      "text/plain": [
       "<matplotlib.axes._subplots.AxesSubplot at 0x2ad73454848>"
      ]
     },
     "execution_count": 40,
     "metadata": {},
     "output_type": "execute_result"
    },
    {
     "data": {
      "image/png": "[encoded data removed]",
      "text/plain": [
       "<Figure size 864x576 with 1 Axes>"
      ]
     },
     "metadata": {
      "needs_background": "light"
     },
     "output_type": "display_data"
    }
   ],
   "source": [
    "df = pd.DataFrame(sorted_good[-20:], columns = ['Common_Good_Words', 'Frequency'])\n",
    "# df.head()\n",
    "\n",
    "fig, ax = plt.subplots(figsize=(12,8))\n",
    "\n",
    "sns.set_color_codes(\"bright\")\n",
    "goodplot = sns.barplot(x=\"Frequency\", y=\"Common_Good_Words\", data=df,\n",
    "             color=\"b\", )\n",
    "goodplot.set_title(\"Most Frequent Words in Good Comments\")\n",
    "\n",
    "goodplot"
   ]
  },
  {
   "cell_type": "code",
   "execution_count": 41,
   "metadata": {},
   "outputs": [
    {
     "name": "stdout",
     "output_type": "stream",
     "text": [
      "# of words 419\n"
     ]
    },
    {
     "data": {
      "text/plain": [
       "[('day', 3),\n",
       " ('tso', 3),\n",
       " ('branch', 3),\n",
       " ('order', 3),\n",
       " ('weapon', 3),\n",
       " ('case', 3),\n",
       " ('trog', 3),\n",
       " ('rat', 3),\n",
       " ('modi', 3),\n",
       " ('daaru', 3),\n",
       " ('suffering', 4),\n",
       " ('like', 4),\n",
       " ('good', 4),\n",
       " ('also', 5),\n",
       " ('evil', 5),\n",
       " ('god', 5),\n",
       " ('get', 5),\n",
       " ('shield', 5),\n",
       " ('use', 5),\n",
       " ('gujarat', 7)]"
      ]
     },
     "execution_count": 41,
     "metadata": {},
     "output_type": "execute_result"
    }
   ],
   "source": [
    "sorted_med = sorted(indecisive_dict.items(), key=lambda kv: kv[1])\n",
    "print(\"# of words\", len(indecisive_dict))\n",
    "sorted_med[-20:]"
   ]
  },
  {
   "cell_type": "code",
   "execution_count": 42,
   "metadata": {},
   "outputs": [
    {
     "data": {
      "text/plain": [
       "<matplotlib.axes._subplots.AxesSubplot at 0x2ad736f27c8>"
      ]
     },
     "execution_count": 42,
     "metadata": {},
     "output_type": "execute_result"
    },
    {
     "data": {
      "image/png": "[encoded data removed]",
      "text/plain": [
       "<Figure size 864x576 with 1 Axes>"
      ]
     },
     "metadata": {
      "needs_background": "light"
     },
     "output_type": "display_data"
    }
   ],
   "source": [
    "# Creating the barplot for middile words\n",
    "\n",
    "df = pd.DataFrame(sorted_med[-20:], columns = ['Common_Mid_Words', 'Frequency'])\n",
    "# df.head()\n",
    "\n",
    "fig, ax = plt.subplots(figsize=(12,8))\n",
    "\n",
    "sns.set_color_codes(\"muted\")\n",
    "midplot = sns.barplot(x=\"Frequency\", y=\"Common_Mid_Words\", data=df,\n",
    "             color=\"g\", )\n",
    "midplot.set_title(\"Most Frequent Words in Indecisive Comments\")\n",
    "\n",
    "midplot\n"
   ]
  },
  {
   "cell_type": "code",
   "execution_count": 43,
   "metadata": {},
   "outputs": [
    {
     "name": "stdout",
     "output_type": "stream",
     "text": [
      "# of words 528\n"
     ]
    },
    {
     "data": {
      "text/plain": [
       "[('much', 3),\n",
       " ('modi', 3),\n",
       " ('worst', 3),\n",
       " ('part', 3),\n",
       " ('least', 3),\n",
       " ('biggest', 3),\n",
       " ('know', 3),\n",
       " ('crazy', 3),\n",
       " ('like', 4),\n",
       " ('food', 4),\n",
       " ('walsh', 4),\n",
       " ('even', 4),\n",
       " ('state', 4),\n",
       " ('want', 5),\n",
       " ('party', 5),\n",
       " ('evil', 6),\n",
       " ('got', 6),\n",
       " ('gujarat', 6),\n",
       " ('one', 7),\n",
       " ('god', 9)]"
      ]
     },
     "execution_count": 43,
     "metadata": {},
     "output_type": "execute_result"
    }
   ],
   "source": [
    "sorted_bad = sorted(bad_dict.items(), key=lambda kv: kv[1])\n",
    "print(\"# of words\", len(bad_dict))\n",
    "sorted_bad[-20:]"
   ]
  },
  {
   "cell_type": "code",
   "execution_count": 44,
   "metadata": {},
   "outputs": [
    {
     "data": {
      "text/plain": [
       "<matplotlib.axes._subplots.AxesSubplot at 0x2ad2c200448>"
      ]
     },
     "execution_count": 44,
     "metadata": {},
     "output_type": "execute_result"
    },
    {
     "data": {
      "image/png": "[encoded data removed]",
      "text/plain": [
       "<Figure size 864x576 with 1 Axes>"
      ]
     },
     "metadata": {
      "needs_background": "light"
     },
     "output_type": "display_data"
    }
   ],
   "source": [
    "# Creating a bar plot for the sorted_bad words\n",
    "df = pd.DataFrame(sorted_bad[-20:], columns = ['Common_Bad_Words', 'Frequency'])\n",
    "# df.head()\n",
    "\n",
    "fig, ax = plt.subplots(figsize=(12,8))\n",
    "\n",
    "sns.set_color_codes(\"dark\")\n",
    "badplot = sns.barplot(x=\"Frequency\", y=\"Common_Bad_Words\", data=df,\n",
    "             color=\"r\", )\n",
    "badplot.set_title(\"Most Frequent Words in Bad Comments\")\n",
    "\n",
    "badplot"
   ]
  },
  {
   "cell_type": "code",
   "execution_count": null,
   "metadata": {},
   "outputs": [],
   "source": []
  },
  {
   "cell_type": "code",
   "execution_count": null,
   "metadata": {},
   "outputs": [],
   "source": []
  },
  {
   "cell_type": "code",
   "execution_count": null,
   "metadata": {},
   "outputs": [],
   "source": []
  },
  {
   "cell_type": "code",
   "execution_count": null,
   "metadata": {},
   "outputs": [],
   "source": []
  }
 ],
 "metadata": {
  "kernelspec": {
   "display_name": "Python 3",
   "language": "python",
   "name": "python3"
  },
  "language_info": {
   "codemirror_mode": {
    "name": "ipython",
    "version": 3
   },
   "file_extension": ".py",
   "mimetype": "text/x-python",
   "name": "python",
   "nbconvert_exporter": "python",
   "pygments_lexer": "ipython3",
   "version": "3.8.3"
  }
 },
 "nbformat": 4,
 "nbformat_minor": 4
}
